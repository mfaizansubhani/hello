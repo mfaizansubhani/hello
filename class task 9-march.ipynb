{
 "cells": [
  {
   "cell_type": "code",
   "execution_count": 4,
   "metadata": {
    "collapsed": false
   },
   "outputs": [
    {
     "name": "stdout",
     "output_type": "stream",
     "text": [
      "Enter File Name: class10\n",
      "42863.769230769234\n"
     ]
    }
   ],
   "source": [
    "import re\n",
    "x=input(\"Enter File Name: \")\n",
    "fhand= open(x+\".txt\")\n",
    "l=list()\n",
    "x=int(0)\n",
    "for line in fhand:\n",
    "    l.extend(re.findall(r\"[\\d]+\",line))\n",
    "for lpc in l:\n",
    "    x+=int(lpc)\n",
    "print(x/len(l))"
   ]
  },
  {
   "cell_type": "code",
   "execution_count": null,
   "metadata": {
    "collapsed": true
   },
   "outputs": [],
   "source": []
  },
  {
   "cell_type": "code",
   "execution_count": null,
   "metadata": {
    "collapsed": true
   },
   "outputs": [],
   "source": []
  }
 ],
 "metadata": {
  "kernelspec": {
   "display_name": "Python 3",
   "language": "python",
   "name": "python3"
  },
  "language_info": {
   "codemirror_mode": {
    "name": "ipython",
    "version": 3
   },
   "file_extension": ".py",
   "mimetype": "text/x-python",
   "name": "python",
   "nbconvert_exporter": "python",
   "pygments_lexer": "ipython3",
   "version": "3.6.0"
  }
 },
 "nbformat": 4,
 "nbformat_minor": 2
}
